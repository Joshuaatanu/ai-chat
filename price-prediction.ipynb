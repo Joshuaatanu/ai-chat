{
 "cells": [
  {
   "cell_type": "code",
   "execution_count": 1,
   "id": "3aa6b089",
   "metadata": {
    "_cell_guid": "b1076dfc-b9ad-4769-8c92-a6c4dae69d19",
    "_uuid": "8f2839f25d086af736a60e9eeb907d3b93b6e0e5",
    "execution": {
     "iopub.execute_input": "2024-07-22T14:01:26.352728Z",
     "iopub.status.busy": "2024-07-22T14:01:26.352320Z",
     "iopub.status.idle": "2024-07-22T14:01:27.531683Z",
     "shell.execute_reply": "2024-07-22T14:01:27.530302Z"
    },
    "papermill": {
     "duration": 1.189877,
     "end_time": "2024-07-22T14:01:27.535617",
     "exception": false,
     "start_time": "2024-07-22T14:01:26.345740",
     "status": "completed"
    },
    "tags": []
   },
   "outputs": [
    {
     "name": "stdout",
     "output_type": "stream",
     "text": [
      "/kaggle/input/carsdataset/cardata.csv\n"
     ]
    }
   ],
   "source": [
    "# This Python 3 environment comes with many helpful analytics libraries installed\n",
    "# It is defined by the kaggle/python Docker image: https://github.com/kaggle/docker-python\n",
    "# For example, here's several helpful packages to load\n",
    "\n",
    "import numpy as np # linear algebra\n",
    "import pandas as pd # data processing, CSV file I/O (e.g. pd.read_csv)\n",
    "\n",
    "# Input data files are available in the read-only \"../input/\" directory\n",
    "# For example, running this (by clicking run or pressing Shift+Enter) will list all files under the input directory\n",
    "\n",
    "import os\n",
    "for dirname, _, filenames in os.walk('/kaggle/input'):\n",
    "    for filename in filenames:\n",
    "        print(os.path.join(dirname, filename))\n",
    "\n",
    "# You can write up to 20GB to the current directory (/kaggle/working/) that gets preserved as output when you create a version using \"Save & Run All\" \n",
    "# You can also write temporary files to /kaggle/temp/, but they won't be saved outside of the current session"
   ]
  },
  {
   "cell_type": "code",
   "execution_count": 2,
   "id": "d37191ba",
   "metadata": {
    "execution": {
     "iopub.execute_input": "2024-07-22T14:01:27.548414Z",
     "iopub.status.busy": "2024-07-22T14:01:27.547890Z",
     "iopub.status.idle": "2024-07-22T14:01:29.384651Z",
     "shell.execute_reply": "2024-07-22T14:01:29.382615Z"
    },
    "papermill": {
     "duration": 1.846121,
     "end_time": "2024-07-22T14:01:29.387709",
     "exception": false,
     "start_time": "2024-07-22T14:01:27.541588",
     "status": "completed"
    },
    "tags": []
   },
   "outputs": [
    {
     "name": "stdout",
     "output_type": "stream",
     "text": [
      "<class 'pandas.core.frame.DataFrame'>\n",
      "RangeIndex: 301 entries, 0 to 300\n",
      "Data columns (total 9 columns):\n",
      " #   Column         Non-Null Count  Dtype  \n",
      "---  ------         --------------  -----  \n",
      " 0   Car_Name       301 non-null    object \n",
      " 1   Year           301 non-null    int64  \n",
      " 2   Selling_Price  301 non-null    float64\n",
      " 3   Present_Price  301 non-null    float64\n",
      " 4   Kms_Driven     301 non-null    int64  \n",
      " 5   Fuel_Type      301 non-null    object \n",
      " 6   Seller_Type    301 non-null    object \n",
      " 7   Transmission   301 non-null    object \n",
      " 8   Owner          301 non-null    int64  \n",
      "dtypes: float64(2), int64(3), object(4)\n",
      "memory usage: 21.3+ KB\n"
     ]
    }
   ],
   "source": [
    "from sklearn.model_selection import train_test_split\n",
    "\n",
    "data = pd.read_csv('/kaggle/input/carsdataset/cardata.csv')\n",
    "data.columns\n",
    "data.info()\n",
    "y = data.Kms_Driven\n",
    "X = data.drop(['Kms_Driven'], axis=1)\n",
    "X_train,X_val,y_train,y_val =train_test_split(X,y, train_size=0.8, test_size =0.2, random_state=42)\n",
    "\n",
    "cols_missing = [\n",
    "    col for col in X_train.columns if X_train[col].isnull().any()]\n",
    "X_train.drop(cols_missing, axis=1, inplace = True)\n",
    "X_val.drop(cols_missing, axis =1 , inplace =True)\n",
    "\n",
    "low_cardinality_cols = [cname for cname in X_train.columns if X_train[cname].nunique()<10 and\n",
    "                       X_train[cname].dtype=='object']\n",
    "numerical_cols = [\n",
    "    cname for cname in X_train.columns if X_train[cname].dtype in ['int64','float64']\n",
    "]\n",
    "\n",
    "my_cols = low_cardinality_cols + numerical_cols\n",
    "X_traino = X_train[my_cols].copy()\n",
    "X_valid = X_val[my_cols].copy()"
   ]
  },
  {
   "cell_type": "code",
   "execution_count": 3,
   "id": "46468f54",
   "metadata": {
    "execution": {
     "iopub.execute_input": "2024-07-22T14:01:29.401398Z",
     "iopub.status.busy": "2024-07-22T14:01:29.400392Z",
     "iopub.status.idle": "2024-07-22T14:01:29.429663Z",
     "shell.execute_reply": "2024-07-22T14:01:29.428389Z"
    },
    "papermill": {
     "duration": 0.039284,
     "end_time": "2024-07-22T14:01:29.432396",
     "exception": false,
     "start_time": "2024-07-22T14:01:29.393112",
     "status": "completed"
    },
    "tags": []
   },
   "outputs": [
    {
     "data": {
      "text/html": [
       "<div>\n",
       "<style scoped>\n",
       "    .dataframe tbody tr th:only-of-type {\n",
       "        vertical-align: middle;\n",
       "    }\n",
       "\n",
       "    .dataframe tbody tr th {\n",
       "        vertical-align: top;\n",
       "    }\n",
       "\n",
       "    .dataframe thead th {\n",
       "        text-align: right;\n",
       "    }\n",
       "</style>\n",
       "<table border=\"1\" class=\"dataframe\">\n",
       "  <thead>\n",
       "    <tr style=\"text-align: right;\">\n",
       "      <th></th>\n",
       "      <th>Car_Name</th>\n",
       "      <th>Year</th>\n",
       "      <th>Selling_Price</th>\n",
       "      <th>Present_Price</th>\n",
       "      <th>Fuel_Type</th>\n",
       "      <th>Seller_Type</th>\n",
       "      <th>Transmission</th>\n",
       "      <th>Owner</th>\n",
       "    </tr>\n",
       "  </thead>\n",
       "  <tbody>\n",
       "    <tr>\n",
       "      <th>184</th>\n",
       "      <td>Bajaj Pulsar 150</td>\n",
       "      <td>2008</td>\n",
       "      <td>0.25</td>\n",
       "      <td>0.750</td>\n",
       "      <td>Petrol</td>\n",
       "      <td>Individual</td>\n",
       "      <td>Manual</td>\n",
       "      <td>1</td>\n",
       "    </tr>\n",
       "    <tr>\n",
       "      <th>132</th>\n",
       "      <td>Bajaj Avenger 220</td>\n",
       "      <td>2017</td>\n",
       "      <td>0.75</td>\n",
       "      <td>0.950</td>\n",
       "      <td>Petrol</td>\n",
       "      <td>Individual</td>\n",
       "      <td>Manual</td>\n",
       "      <td>0</td>\n",
       "    </tr>\n",
       "    <tr>\n",
       "      <th>194</th>\n",
       "      <td>Hero  CBZ Xtreme</td>\n",
       "      <td>2008</td>\n",
       "      <td>0.20</td>\n",
       "      <td>0.787</td>\n",
       "      <td>Petrol</td>\n",
       "      <td>Individual</td>\n",
       "      <td>Manual</td>\n",
       "      <td>0</td>\n",
       "    </tr>\n",
       "    <tr>\n",
       "      <th>75</th>\n",
       "      <td>etios g</td>\n",
       "      <td>2015</td>\n",
       "      <td>3.95</td>\n",
       "      <td>6.800</td>\n",
       "      <td>Petrol</td>\n",
       "      <td>Dealer</td>\n",
       "      <td>Manual</td>\n",
       "      <td>0</td>\n",
       "    </tr>\n",
       "    <tr>\n",
       "      <th>111</th>\n",
       "      <td>Royal Enfield Thunder 350</td>\n",
       "      <td>2016</td>\n",
       "      <td>1.15</td>\n",
       "      <td>1.500</td>\n",
       "      <td>Petrol</td>\n",
       "      <td>Individual</td>\n",
       "      <td>Manual</td>\n",
       "      <td>0</td>\n",
       "    </tr>\n",
       "  </tbody>\n",
       "</table>\n",
       "</div>"
      ],
      "text/plain": [
       "                      Car_Name  Year  Selling_Price  Present_Price Fuel_Type  \\\n",
       "184           Bajaj Pulsar 150  2008           0.25          0.750    Petrol   \n",
       "132          Bajaj Avenger 220  2017           0.75          0.950    Petrol   \n",
       "194           Hero  CBZ Xtreme  2008           0.20          0.787    Petrol   \n",
       "75                     etios g  2015           3.95          6.800    Petrol   \n",
       "111  Royal Enfield Thunder 350  2016           1.15          1.500    Petrol   \n",
       "\n",
       "    Seller_Type Transmission  Owner  \n",
       "184  Individual       Manual      1  \n",
       "132  Individual       Manual      0  \n",
       "194  Individual       Manual      0  \n",
       "75       Dealer       Manual      0  \n",
       "111  Individual       Manual      0  "
      ]
     },
     "execution_count": 3,
     "metadata": {},
     "output_type": "execute_result"
    }
   ],
   "source": [
    "X_train.head()"
   ]
  },
  {
   "cell_type": "code",
   "execution_count": 4,
   "id": "ac625309",
   "metadata": {
    "execution": {
     "iopub.execute_input": "2024-07-22T14:01:29.445314Z",
     "iopub.status.busy": "2024-07-22T14:01:29.444709Z",
     "iopub.status.idle": "2024-07-22T14:01:29.815677Z",
     "shell.execute_reply": "2024-07-22T14:01:29.813705Z"
    },
    "papermill": {
     "duration": 0.381144,
     "end_time": "2024-07-22T14:01:29.818772",
     "exception": false,
     "start_time": "2024-07-22T14:01:29.437628",
     "status": "completed"
    },
    "tags": []
   },
   "outputs": [],
   "source": [
    "from sklearn.compose import ColumnTransformer\n",
    "from sklearn.pipeline import Pipeline\n",
    "from sklearn.impute  import SimpleImputer\n",
    "from sklearn.preprocessing import OneHotEncoder\n",
    "\n",
    "numerical_transformer = SimpleImputer(strategy='constant')\n",
    "\n",
    "categorical_transformer = Pipeline(steps=[('imputer', SimpleImputer(strategy='most_frequent')),\n",
    "                                          ('onehot', OneHotEncoder(handle_unknown='ignore'))\n",
    "                                          ])\n",
    "Preprocessor =ColumnTransformer(\n",
    "    transformers=[\n",
    "        ('num', numerical_transformer, numerical_cols),\n",
    "        ('cat', categorical_transformer,low_cardinality_cols)\n",
    "\n",
    "    ]\n",
    ")\n"
   ]
  },
  {
   "cell_type": "code",
   "execution_count": 5,
   "id": "f79abdc9",
   "metadata": {
    "execution": {
     "iopub.execute_input": "2024-07-22T14:01:29.831376Z",
     "iopub.status.busy": "2024-07-22T14:01:29.830884Z",
     "iopub.status.idle": "2024-07-22T14:01:29.977186Z",
     "shell.execute_reply": "2024-07-22T14:01:29.975874Z"
    },
    "papermill": {
     "duration": 0.156479,
     "end_time": "2024-07-22T14:01:29.980452",
     "exception": false,
     "start_time": "2024-07-22T14:01:29.823973",
     "status": "completed"
    },
    "tags": []
   },
   "outputs": [],
   "source": [
    "from sklearn.ensemble import RandomForestRegressor\n",
    "\n",
    "model = RandomForestRegressor(n_estimators=50, random_state=0)"
   ]
  },
  {
   "cell_type": "raw",
   "id": "407a7bda",
   "metadata": {
    "execution": {
     "iopub.execute_input": "2024-07-22T13:42:50.708057Z",
     "iopub.status.busy": "2024-07-22T13:42:50.706851Z",
     "iopub.status.idle": "2024-07-22T13:42:50.980367Z",
     "shell.execute_reply": "2024-07-22T13:42:50.979286Z",
     "shell.execute_reply.started": "2024-07-22T13:42:50.708001Z"
    },
    "papermill": {
     "duration": 0.005439,
     "end_time": "2024-07-22T14:01:29.991040",
     "exception": false,
     "start_time": "2024-07-22T14:01:29.985601",
     "status": "completed"
    },
    "tags": []
   },
   "source": [
    "from sklearn.metrics import mean_absolute_error\n",
    "\n",
    "my_pipeline = Pipeline(steps=[('Preprocessor', Preprocessor),\n",
    "                              ('model',model)])\n",
    "my_pipeline.fit(X_train, y_train)\n",
    "\n",
    "preds = my_pipeline.predict(X_val)\n",
    "\n",
    "score =mean_absolute_error(y_val, preds)\n",
    "print(\"MAE: \", score)"
   ]
  },
  {
   "cell_type": "code",
   "execution_count": 6,
   "id": "ea02debc",
   "metadata": {
    "execution": {
     "iopub.execute_input": "2024-07-22T14:01:30.003862Z",
     "iopub.status.busy": "2024-07-22T14:01:30.003434Z",
     "iopub.status.idle": "2024-07-22T14:01:30.174267Z",
     "shell.execute_reply": "2024-07-22T14:01:30.172531Z"
    },
    "papermill": {
     "duration": 0.18067,
     "end_time": "2024-07-22T14:01:30.177213",
     "exception": false,
     "start_time": "2024-07-22T14:01:29.996543",
     "status": "completed"
    },
    "tags": []
   },
   "outputs": [
    {
     "name": "stdout",
     "output_type": "stream",
     "text": [
      "MAE:  11902.110710382512\n"
     ]
    }
   ],
   "source": [
    "from sklearn.metrics import mean_absolute_error\n",
    "\n",
    "my_pipeline = Pipeline(steps=[('Preprocessor', Preprocessor),\n",
    "                              ('model',model)])\n",
    "my_pipeline.fit(X_train, y_train)\n",
    "\n",
    "preds = my_pipeline.predict(X_val)\n",
    "\n",
    "score =mean_absolute_error(y_val, preds)\n",
    "print(\"MAE: \", score)"
   ]
  },
  {
   "cell_type": "code",
   "execution_count": 7,
   "id": "90762756",
   "metadata": {
    "execution": {
     "iopub.execute_input": "2024-07-22T14:01:30.188902Z",
     "iopub.status.busy": "2024-07-22T14:01:30.188489Z",
     "iopub.status.idle": "2024-07-22T14:01:30.198116Z",
     "shell.execute_reply": "2024-07-22T14:01:30.196126Z"
    },
    "papermill": {
     "duration": 0.019894,
     "end_time": "2024-07-22T14:01:30.202117",
     "exception": false,
     "start_time": "2024-07-22T14:01:30.182223",
     "status": "completed"
    },
    "tags": []
   },
   "outputs": [
    {
     "name": "stdout",
     "output_type": "stream",
     "text": [
      "[ 13516.          44290.04        65240.66        75173.98\n",
      "  49923.46        44295.54        16934.          32245.6\n",
      "   6840.          54831.48        13980.52        22490.\n",
      "  39549.9          4990.          55449.86        33157.92\n",
      "  18736.          13851.44        12242.           3326.\n",
      "  21828.          22514.26        62261.72        47922.02\n",
      "  25037.6         33528.90666667  57160.94        36038.08\n",
      "   4514.          12564.          25008.          57482.42\n",
      "  60910.84        67735.8         34604.02        33199.76\n",
      "  57358.16        76437.6         36793.1         65863.86\n",
      " 126901.2        119482.72        39812.98        17815.6\n",
      "  45603.86        35678.          43958.8         72261.38\n",
      "  41645.22        52670.08        49239.56         3850.\n",
      "  43521.4         14200.          48343.98        30674.\n",
      "  25774.6         27473.24        74625.44        18197.58\n",
      "  31238.        ]\n",
      "184    26000\n",
      "132     3500\n",
      "194    50000\n",
      "75     36000\n",
      "111     8700\n",
      "       ...  \n",
      "188    18000\n",
      "71     45000\n",
      "106    16500\n",
      "270    69341\n",
      "102     4000\n",
      "Name: Kms_Driven, Length: 240, dtype: int64\n"
     ]
    }
   ],
   "source": [
    "print(preds)\n",
    "print(y_train)"
   ]
  },
  {
   "cell_type": "code",
   "execution_count": null,
   "id": "2fed749e",
   "metadata": {
    "papermill": {
     "duration": 0.005813,
     "end_time": "2024-07-22T14:01:30.215266",
     "exception": false,
     "start_time": "2024-07-22T14:01:30.209453",
     "status": "completed"
    },
    "tags": []
   },
   "outputs": [],
   "source": []
  }
 ],
 "metadata": {
  "kaggle": {
   "accelerator": "none",
   "dataSources": [
    {
     "datasetId": 5316043,
     "sourceId": 8834292,
     "sourceType": "datasetVersion"
    }
   ],
   "dockerImageVersionId": 30746,
   "isGpuEnabled": false,
   "isInternetEnabled": false,
   "language": "python",
   "sourceType": "notebook"
  },
  "kernelspec": {
   "display_name": "Python 3",
   "language": "python",
   "name": "python3"
  },
  "language_info": {
   "codemirror_mode": {
    "name": "ipython",
    "version": 3
   },
   "file_extension": ".py",
   "mimetype": "text/x-python",
   "name": "python",
   "nbconvert_exporter": "python",
   "pygments_lexer": "ipython3",
   "version": "3.10.13"
  },
  "papermill": {
   "default_parameters": {},
   "duration": 8.31903,
   "end_time": "2024-07-22T14:01:31.153350",
   "environment_variables": {},
   "exception": null,
   "input_path": "__notebook__.ipynb",
   "output_path": "__notebook__.ipynb",
   "parameters": {},
   "start_time": "2024-07-22T14:01:22.834320",
   "version": "2.5.0"
  }
 },
 "nbformat": 4,
 "nbformat_minor": 5
}
